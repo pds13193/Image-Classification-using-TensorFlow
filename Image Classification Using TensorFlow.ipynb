{
 "cells": [
  {
   "cell_type": "markdown",
   "metadata": {
    "tags": []
   },
   "source": [
    "# Background\n",
    "\n",
    "A neural network model designed for addressing a fundamental image classification task.\n",
    "\n",
    "The aim is to develop and train a model capable of taking an image of a handwritten digit as its input and providing a prediction for the digit's class, effectively determining either the digit itself or its corresponding class based on the input image."
   ]
  },
  {
   "cell_type": "code",
   "execution_count": 1,
   "metadata": {
    "tags": []
   },
   "outputs": [
    {
     "name": "stderr",
     "output_type": "stream",
     "text": [
      "2023-10-07 13:48:45.521484: I tensorflow/core/platform/cpu_feature_guard.cc:182] This TensorFlow binary is optimized to use available CPU instructions in performance-critical operations.\n",
      "To enable the following instructions: AVX2 FMA, in other operations, rebuild TensorFlow with the appropriate compiler flags.\n"
     ]
    },
    {
     "name": "stdout",
     "output_type": "stream",
     "text": [
      "Using TensorFlow version 2.13.1\n"
     ]
    }
   ],
   "source": [
    "import tensorflow as tf\n",
    "\n",
    "# Print the TensorFlow version\n",
    "print('Using TensorFlow version', tf.__version__)\n",
    "\n",
    "# Set the TensorFlow logging verbosity to ERROR level\n",
    "tf.get_logger().setLevel(tf.compat.v1.logging.ERROR)"
   ]
  },
  {
   "cell_type": "code",
   "execution_count": 2,
   "metadata": {},
   "outputs": [],
   "source": [
    "from tensorflow.keras.datasets import mnist\n",
    "\n",
    "# Load the MNIST dataset and store it in mnist_data\n",
    "mnist_data = mnist.load_data()\n",
    "\n",
    "# Extract the training data (images and classes) from mnist_data\n",
    "images_train, classes_train = mnist_data[0]\n",
    "\n",
    "# Extract the testing data (images and classes) from mnist_data\n",
    "images_test, classes_test = mnist_data[1]"
   ]
  },
  {
   "cell_type": "code",
   "execution_count": 3,
   "metadata": {},
   "outputs": [
    {
     "name": "stdout",
     "output_type": "stream",
     "text": [
      "Dimensions of the training data for images:  (60000, 28, 28)\n",
      "Dimensions of the training data for classes/labels:  (60000,)\n",
      "Dimensions of the testing data for images:  (10000, 28, 28)\n",
      "Dimensions of the testing data for classes/labels:  (10000,)\n"
     ]
    }
   ],
   "source": [
    "print('Dimensions of the training data for images: ', images_train.shape)\n",
    "print('Dimensions of the training data for classes/labels: ', classes_train.shape)\n",
    "print('Dimensions of the testing data for images: ', images_test.shape)\n",
    "print('Dimensions of the testing data for classes/labels: ', classes_test.shape)"
   ]
  },
  {
   "cell_type": "code",
   "execution_count": 4,
   "metadata": {},
   "outputs": [
    {
     "data": {
      "image/png": "[encoded data removed]",
      "text/plain": [
       "<Figure size 432x288 with 1 Axes>"
      ]
     },
     "metadata": {
      "needs_background": "light"
     },
     "output_type": "display_data"
    }
   ],
   "source": [
    "import matplotlib.pyplot as plot\n",
    "# To display the plot within the Jupyter Notebook\n",
    "%matplotlib inline                \n",
    "\n",
    "# Display the 2nd training image from the MNIST dataset in binary color map\n",
    "plot.imshow(images_train[2], cmap = 'binary')\n",
    "\n",
    "# Show the image plot\n",
    "plot.show()"
   ]
  },
  {
   "cell_type": "code",
   "execution_count": 5,
   "metadata": {},
   "outputs": [
    {
     "data": {
      "text/plain": [
       "4"
      ]
     },
     "execution_count": 5,
     "metadata": {},
     "output_type": "execute_result"
    }
   ],
   "source": [
    "classes_train[2]"
   ]
  },
  {
   "cell_type": "code",
   "execution_count": 6,
   "metadata": {},
   "outputs": [
    {
     "name": "stdout",
     "output_type": "stream",
     "text": [
      "[0 1 2 3 4 5 6 7 8 9]\n"
     ]
    }
   ],
   "source": [
    "import numpy as np\n",
    "\n",
    "# Find unique labels in classes_train\n",
    "unique_labels = np.unique(classes_train)\n",
    "\n",
    "# Print the unique labels\n",
    "print(unique_labels)"
   ]
  },
  {
   "cell_type": "code",
   "execution_count": 7,
   "metadata": {},
   "outputs": [],
   "source": [
    "from tensorflow.keras.utils import to_categorical\n",
    "\n",
    "classes_train_encoded = to_categorical(classes_train)  # one-hot encode the training class labels\n",
    "classes_test_encoded = to_categorical(classes_test)    # one-hot encode the testing class labels"
   ]
  },
  {
   "cell_type": "code",
   "execution_count": 8,
   "metadata": {},
   "outputs": [
    {
     "name": "stdout",
     "output_type": "stream",
     "text": [
      "Shape of training set class labels (one-hot encoded): (60000, 10)\n",
      "Shape of testing set class labels (one-hot encoded): (10000, 10)\n"
     ]
    }
   ],
   "source": [
    "print('Shape of training set class labels (one-hot encoded):', classes_train_encoded.shape)\n",
    "print('Shape of testing set class labels (one-hot encoded):', classes_test_encoded.shape)"
   ]
  },
  {
   "cell_type": "code",
   "execution_count": 9,
   "metadata": {},
   "outputs": [
    {
     "data": {
      "text/plain": [
       "array([0., 0., 0., 0., 0., 1., 0., 0., 0., 0.], dtype=float32)"
      ]
     },
     "execution_count": 9,
     "metadata": {},
     "output_type": "execute_result"
    }
   ],
   "source": [
    "classes_train_encoded[0]"
   ]
  },
  {
   "cell_type": "code",
   "execution_count": 10,
   "metadata": {},
   "outputs": [
    {
     "name": "stdout",
     "output_type": "stream",
     "text": [
      "Each image now represented as a 784 dimensional vector\n",
      "Training images reshaped to:  (60000, 784)\n",
      "Testing images reshaped to:  (10000, 784)\n"
     ]
    }
   ],
   "source": [
    "# Reshape the training and test images into a 2D array, where each image is represented as a 1D vector\n",
    "\n",
    "images_train_reshaped = np.reshape(images_train, (len(images_train), -1))\n",
    "images_test_reshaped = np.reshape(images_test, (len(images_test), -1))\n",
    "\n",
    "print('Each image now represented as a', images_train_reshaped.shape[1], 'dimensional vector')\n",
    "print('Training images reshaped to: ', images_train_reshaped.shape)\n",
    "print('Testing images reshaped to: ', images_test_reshaped.shape)"
   ]
  },
  {
   "cell_type": "code",
   "execution_count": 11,
   "metadata": {},
   "outputs": [
    {
     "name": "stdout",
     "output_type": "stream",
     "text": [
      "{0, 1, 2, 3, 9, 11, 14, 16, 18, 23, 24, 25, 26, 27, 30, 35, 36, 39, 43, 45, 46, 49, 55, 56, 64, 66, 70, 78, 80, 81, 82, 90, 93, 94, 107, 108, 114, 119, 126, 127, 130, 132, 133, 135, 136, 139, 148, 150, 154, 156, 160, 166, 170, 171, 172, 175, 182, 183, 186, 187, 190, 195, 198, 201, 205, 207, 212, 213, 219, 221, 225, 226, 229, 238, 240, 241, 242, 244, 247, 249, 250, 251, 252, 253, 255}\n"
     ]
    }
   ],
   "source": [
    "print(set(images_train_reshaped[0])) # Unique pixel values in the first reshaped training image"
   ]
  },
  {
   "cell_type": "code",
   "execution_count": 12,
   "metadata": {},
   "outputs": [
    {
     "name": "stdout",
     "output_type": "stream",
     "text": [
      "Mean of the image data:  33.318421449829934\n",
      "Standard deviation of the image data:  78.56748998339798\n"
     ]
    }
   ],
   "source": [
    "# Mean of the pixel values in the reshaped training images\n",
    "images_mean = np.mean(images_train_reshaped)\n",
    "\n",
    "# standard deviation of the pixel values in the reshaped training images\n",
    "images_std = np.std(images_train_reshaped)\n",
    "\n",
    "print('Mean of the image data: ', images_mean)\n",
    "print('Standard deviation of the image data: ', images_std)"
   ]
  },
  {
   "cell_type": "code",
   "execution_count": 13,
   "metadata": {},
   "outputs": [
    {
     "name": "stdout",
     "output_type": "stream",
     "text": [
      "Training images normalized with mean subtraction and scaling\n",
      "Testing images normalized with mean subtraction and scaling\n"
     ]
    }
   ],
   "source": [
    "# Define a small epsilon value for numerical stability\n",
    "epsilon = 1e-10\n",
    "\n",
    "# Normalize the training images\n",
    "normalized_images_train = (images_train_reshaped - images_mean)/(images_std + epsilon)\n",
    "\n",
    "# Normalize the testing images\n",
    "normalized_images_test = (images_test_reshaped - images_mean)/(images_std + epsilon)\n",
    "\n",
    "# Print information about the normalization\n",
    "print('Training images normalized with mean subtraction and scaling')\n",
    "print('Testing images normalized with mean subtraction and scaling')"
   ]
  },
  {
   "cell_type": "code",
   "execution_count": 14,
   "metadata": {},
   "outputs": [
    {
     "name": "stdout",
     "output_type": "stream",
     "text": [
      "{-0.38589016215482896, 1.306921966983251, 1.17964285952926, 1.803310486053816, 1.6887592893452241, 2.8215433456857437, 2.719720059722551, 1.1923707702746593, 1.7396709323268205, 2.057868700961798, 2.3633385588513764, 2.096052433197995, 1.7651267538176187, 2.7960875241949457, 2.7451758812133495, 2.45243393406917, 0.02140298169794222, -0.22042732246464067, 1.2305545025108566, 0.2759611966059242, 2.210603629906587, 2.6560805059955555, 2.6051688630139593, -0.4240738943910262, 0.4668798577869107, 0.1486820891519332, 0.3905123933145161, 1.0905474843114664, -0.09314821501064967, 1.4851127174188385, 2.7579037919587486, 1.5360243604004349, 0.07231462467953861, -0.13133194724684696, 1.294194056237852, 0.03413089244334132, 1.3451056992194483, 2.274243183633583, -0.24588314395543887, 0.772349715676489, 0.75962180493109, 0.7214380726948927, 0.1995937321335296, -0.41134598364562713, 0.5687031437501034, 0.5941589652409017, 0.9378125553666773, 0.9505404661120763, 0.6068868759863008, 0.4159682148053143, -0.042236572029053274, 2.7706317027041476, 2.1342361654341926, 0.12322626766113501, -0.08042030426525057, 0.16140999989733232, 1.8924058612716097, 1.2560103240016547, 2.185147808415789, 0.6196147867316999, 1.943317504253206, -0.11860403650144787, -0.30952269768243434, 1.9942291472348024, -0.2840668761916362, 2.6306246845047574, 2.286971094378982, -0.19497150097384247, -0.39861807290022805, 0.2886891073513233, 1.7523988430722195, 2.3887943803421745, 2.681536327486354, 1.4596568959280403, 2.439706023323771, 2.7833596134495466, 2.490617666305367, -0.10587612575604877, 1.5614801818912332, 1.9051337720170087, 1.6123918248728295, 1.268738234747054, 1.9560454149986053, 2.6433525952501564, 1.026907930584471}\n"
     ]
    }
   ],
   "source": [
    "# Unique normalized pixel values in the first normalized training image\n",
    "print(set(normalized_images_train[0]))"
   ]
  },
  {
   "cell_type": "code",
   "execution_count": 15,
   "metadata": {},
   "outputs": [],
   "source": [
    "from tensorflow.keras.models import Sequential\n",
    "from tensorflow.keras.layers import Dense\n",
    "\n",
    "# Create a Sequential model for a neural network\n",
    "neural_network_model = Sequential([\n",
    "    Dense(128, activation = 'relu', input_shape = (784,)),  # Add the first Dense layer\n",
    "    Dense(128, activation = 'relu'),                        # Add the second Dense layer\n",
    "    Dense(10, activation = 'softmax')                       # Add the third Dense layer\n",
    "])"
   ]
  },
  {
   "cell_type": "code",
   "execution_count": 16,
   "metadata": {},
   "outputs": [
    {
     "name": "stdout",
     "output_type": "stream",
     "text": [
      "Model: \"sequential\"\n",
      "_________________________________________________________________\n",
      " Layer (type)                Output Shape              Param #   \n",
      "=================================================================\n",
      " dense (Dense)               (None, 128)               100480    \n",
      "                                                                 \n",
      " dense_1 (Dense)             (None, 128)               16512     \n",
      "                                                                 \n",
      " dense_2 (Dense)             (None, 10)                1290      \n",
      "                                                                 \n",
      "=================================================================\n",
      "Total params: 118282 (462.04 KB)\n",
      "Trainable params: 118282 (462.04 KB)\n",
      "Non-trainable params: 0 (0.00 Byte)\n",
      "_________________________________________________________________\n"
     ]
    }
   ],
   "source": [
    "# Compile the neural network model\n",
    "neural_network_model.compile(\n",
    "    optimizer = 'sgd',                  # Use stochastic gradient descent (SGD) optimizer for training\n",
    "    loss = 'categorical_crossentropy',  # Specify categorical cross-entropy as the loss function for multi-class classification\n",
    "    metrics = ['accuracy']              # 'Accuracy' as the metric to monitor during training\n",
    ")\n",
    "\n",
    "neural_network_model.summary()                         # summary of the model architecture"
   ]
  },
  {
   "cell_type": "code",
   "execution_count": 17,
   "metadata": {},
   "outputs": [
    {
     "name": "stdout",
     "output_type": "stream",
     "text": [
      "Epoch 1/3\n",
      "1875/1875 [==============================] - 4s 2ms/step - loss: 0.3676 - accuracy: 0.8939\n",
      "Epoch 2/3\n",
      "1875/1875 [==============================] - 3s 2ms/step - loss: 0.1816 - accuracy: 0.9475\n",
      "Epoch 3/3\n",
      "1875/1875 [==============================] - 4s 2ms/step - loss: 0.1358 - accuracy: 0.9599\n"
     ]
    }
   ],
   "source": [
    "# Train the neural network model using the fit method\n",
    "\n",
    "training_history = neural_network_model.fit(\n",
    "    normalized_images_train,  # Provide the normalized training images as input\n",
    "    classes_train_encoded,    # Provide the one-hot encoded training class labels as target\n",
    "    epochs = 3                # Specify the number of training epochs (iterations)\n",
    ")"
   ]
  },
  {
   "cell_type": "code",
   "execution_count": 18,
   "metadata": {},
   "outputs": [
    {
     "name": "stdout",
     "output_type": "stream",
     "text": [
      "313/313 [==============================] - 1s 2ms/step - loss: 0.1238 - accuracy: 0.9648\n",
      "Test set accuracy:  96.48000001907349\n"
     ]
    }
   ],
   "source": [
    "# Evaluate the trained model on the test data\n",
    "loss, accuracy = neural_network_model.evaluate(normalized_images_test, classes_test_encoded)\n",
    "\n",
    "print('Test set accuracy: ', accuracy * 100)"
   ]
  },
  {
   "cell_type": "code",
   "execution_count": 19,
   "metadata": {},
   "outputs": [
    {
     "name": "stdout",
     "output_type": "stream",
     "text": [
      "313/313 [==============================] - 1s 2ms/step\n",
      "Shape of Predictions:  (10000, 10)\n"
     ]
    }
   ],
   "source": [
    "# Use the trained model to make predictions on the normalized test data\n",
    "predictions = neural_network_model.predict(normalized_images_test)\n",
    "\n",
    "print('Shape of Predictions: ', predictions.shape)"
   ]
  },
  {
   "cell_type": "code",
   "execution_count": 20,
   "metadata": {},
   "outputs": [
    {
     "data": {
      "image/png": "[encoded data removed]",
      "text/plain": [
       "<Figure size 720x720 with 25 Axes>"
      ]
     },
     "metadata": {},
     "output_type": "display_data"
    }
   ],
   "source": [
    "# Create a new figure for plotting with a specified size\n",
    "plot.figure(figsize = (10, 10))\n",
    "\n",
    "# Initialize the start index for selecting test examples\n",
    "start_index = 0\n",
    "\n",
    "# Loop through a range of 25 to display multiple test images and their predictions\n",
    "for i in range(25):\n",
    "    plot.subplot(5, 5, i + 1)     # Create a subplot within a 5x5 grid\n",
    "    \n",
    "    # Remove grid lines and tick marks for cleaner visualization\n",
    "    plot.grid(False)\n",
    "    plot.xticks([])\n",
    "    plot.yticks([])\n",
    "    \n",
    "    # Get the predicted class (pred) and actual class (actual) for the current test example\n",
    "    predicted_class = np.argmax(predictions[start_index + i])\n",
    "    actual_class = np.argmax(classes_test_encoded[start_index + i])\n",
    "    \n",
    "    # Set the text color to green (g) if the prediction is correct; otherwise, set it to red (r)\n",
    "    text_color = 'g'\n",
    "    if predicted_class != actual_class:\n",
    "        text_color = 'r'\n",
    "    \n",
    "    # Display a label with index, predicted class, and actual class\n",
    "    plot.xlabel('i={} | pred={} | true={}'.format(start_index + i, predicted_class, actual_class), color = text_color)\n",
    "    \n",
    "    # Display the current test image in binary color map\n",
    "    plot.imshow(images_test[start_index + i], cmap='binary')\n",
    "    \n",
    "# Show the plotted images and labels\n",
    "plot.show()"
   ]
  },
  {
   "cell_type": "code",
   "execution_count": 21,
   "metadata": {},
   "outputs": [
    {
     "data": {
      "image/png": "[encoded data removed]",
      "text/plain": [
       "<Figure size 432x288 with 1 Axes>"
      ]
     },
     "metadata": {
      "needs_background": "light"
     },
     "output_type": "display_data"
    }
   ],
   "source": [
    "# Replace the value 8 with the index you wish to use to plot the probability scores for prediction.\n",
    "\n",
    "index = 8\n",
    "\n",
    "plot.plot(predictions[index])\n",
    "plot.show()"
   ]
  },
  {
   "cell_type": "raw",
   "metadata": {},
   "source": []
  }
 ],
 "metadata": {
  "kernelspec": {
   "display_name": "Python 3 (ipykernel)",
   "language": "python",
   "name": "python3"
  },
  "language_info": {
   "codemirror_mode": {
    "name": "ipython",
    "version": 3
   },
   "file_extension": ".py",
   "mimetype": "text/x-python",
   "name": "python",
   "nbconvert_exporter": "python",
   "pygments_lexer": "ipython3",
   "version": "3.8.12"
  }
 },
 "nbformat": 4,
 "nbformat_minor": 4
}
